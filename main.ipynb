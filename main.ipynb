{
 "cells": [
  {
   "cell_type": "markdown",
   "metadata": {},
   "source": [
    "# Prova 3\n",
    "\n",
    "Instructions:\n",
    "- Exercises are grouped by topic and ordered by increasing difficulty within each topic.\n",
    "- Submit your solutions in a well-organized Jupyter notebook.\n",
    "- You are responsible for creating robust test cases for each question. Ensure your tests cover all possible cases, especially edge cases (e.g., with the largest possible N ).\n",
    "- Verify that all your solutions meet the specified time constraints. Unless otherwise stated, each question has a 1-second time limit. Some of the later questions may have different limits, which will be indicated.\n",
    "- Be sure that the inputs (which will be created by you) match the specifications, and your solutions meets the required time limit.\n",
    "- Presentation matters: make sure your notebook is clean, well-structured, and that both solutions and test cases are clearly labeled."
   ]
  },
  {
   "cell_type": "code",
   "execution_count": 133,
   "metadata": {},
   "outputs": [],
   "source": [
    "# from qiskit import QuantumCircuit, Aer, execute\n",
    "from qiskit.circuit.library import (\n",
    "    HGate, \n",
    "    ZGate, \n",
    "    XGate, \n",
    "    YGate,\n",
    ")\n",
    "from qiskit import QuantumCircuit\n",
    "from qiskit.quantum_info import Statevector\n",
    "from qiskit.primitives import StatevectorSampler\n",
    "from qiskit.visualization import (\n",
    "    plot_bloch_multivector,\n",
    "    array_to_latex, \n",
    "    plot_histogram,\n",
    ")\n",
    "from sympy.parsing.sympy_parser import parse_expr\n",
    "from sympy.logic.inference import satisfiable\n",
    "\n",
    "\n",
    "import numpy as np\n",
    "from numpy.random import default_rng, shuffle\n",
    "\n",
    "rng = default_rng()"
   ]
  },
  {
   "cell_type": "markdown",
   "metadata": {},
   "source": [
    "## Distinguishing Unitaries and States"
   ]
  },
  {
   "cell_type": "markdown",
   "metadata": {},
   "source": [
    "**Exercise 1.** You are given an operation that implements a single-qubit unitary transformation: either the H gate or the X gate. The operation will have Adjoint and Controlled variants defined. Your task is to perform necessary operations and measurements to figure out which unitary it was and to return 0 if it was the H gate or 1 if it was the X gate. You are allowed to apply the given operation and its adjoint/controlled variants at most twice. You have to implement an operation which takes a single-qubit operation as an input and returns an integer."
   ]
  },
  {
   "cell_type": "code",
   "execution_count": 161,
   "metadata": {},
   "outputs": [],
   "source": [
    "# 0 -> Gate H, 1 -> Gate X \n",
    "def solve1(operator) -> int:\n",
    "    # We'll apply UXU|0> and measure.\n",
    "    # When U=X -> XXX|0> = X|0> = |1>\n",
    "    # When U=H -> HXH|0> = HX(|0>+|1>) = H(|0>+|1>) = |0>\n",
    "    \n",
    "    qc = QuantumCircuit(1, 1)           # 1 quibit + 1 bit (output measure)\n",
    "    qc.append(operator, [0])\n",
    "    qc.x(0)\n",
    "    qc.append(operator, [0])\n",
    "    \n",
    "    qc.measure(0, 0)\n",
    "    qc.draw('mpl')\n",
    "    \n",
    "    sampler = StatevectorSampler()\n",
    "    job = sampler.run([qc], shots=1)\n",
    "    result = job.result()[0].data['c'].get_counts() # A map with the measured val\n",
    "\n",
    "    return int([k for k in result.keys()][0])\n",
    "    "
   ]
  },
  {
   "cell_type": "code",
   "execution_count": 166,
   "metadata": {},
   "outputs": [
    {
     "name": "stdout",
     "output_type": "stream",
     "text": [
      "The case tests: {'X': 10, 'H': 10}\n",
      "{'Accepted': 20, 'Wrong Answer': 0}\n"
     ]
    }
   ],
   "source": [
    "# Testing \n",
    "\n",
    "tests = [i%2 for i in range(20)]\n",
    "shuffle(tests)\n",
    "result_test = {'Accepted':0, 'Wrong Answer':0}\n",
    "tests_inputs = {'X':0, 'H':0}\n",
    "for tt in tests:\n",
    "    gate = XGate() if tt == 1 else HGate()\n",
    "    tests_inputs[('X' if tt == 1 else 'H')] += 1\n",
    "    expected = tt\n",
    "    res = solve1(gate)\n",
    "    if res == expected: \n",
    "        result_test['Accepted'] += 1\n",
    "    else: \n",
    "        result_test['Wrong Answer'] += 1\n",
    "    \n",
    "### Showing results\n",
    "print(\"The case tests:\", tests_inputs)\n",
    "print(result_test)"
   ]
  }
 ],
 "metadata": {
  "kernelspec": {
   "display_name": ".env",
   "language": "python",
   "name": "python3"
  },
  "language_info": {
   "codemirror_mode": {
    "name": "ipython",
    "version": 3
   },
   "file_extension": ".py",
   "mimetype": "text/x-python",
   "name": "python",
   "nbconvert_exporter": "python",
   "pygments_lexer": "ipython3",
   "version": "3.12.3"
  }
 },
 "nbformat": 4,
 "nbformat_minor": 2
}
