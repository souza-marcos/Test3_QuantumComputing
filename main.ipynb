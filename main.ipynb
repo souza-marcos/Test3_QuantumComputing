{
 "cells": [
  {
   "cell_type": "markdown",
   "metadata": {},
   "source": [
    "# Prova 3\n",
    "\n",
    "Instructions:\n",
    "- Exercises are grouped by topic and ordered by increasing difficulty within each topic.\n",
    "- Submit your solutions in a well-organized Jupyter notebook.\n",
    "- You are responsible for creating robust test cases for each question. Ensure your tests cover all possible cases, especially edge cases (e.g., with the largest possible N ).\n",
    "- Verify that all your solutions meet the specified time constraints. Unless otherwise stated, each question has a 1-second time limit. Some of the later questions may have different limits, which will be indicated.\n",
    "- Be sure that the inputs (which will be created by you) match the specifications, and your solutions meets the required time limit.\n",
    "- Presentation matters: make sure your notebook is clean, well-structured, and that both solutions and test cases are clearly labeled."
   ]
  },
  {
   "cell_type": "code",
   "execution_count": 170,
   "metadata": {},
   "outputs": [],
   "source": [
    "# from qiskit import QuantumCircuit, Aer, execute\n",
    "from qiskit.circuit.library import (\n",
    "    HGate, \n",
    "    ZGate, \n",
    "    XGate, \n",
    "    YGate,\n",
    "    IGate,\n",
    ")\n",
    "from qiskit import QuantumCircuit\n",
    "from qiskit.quantum_info import Statevector\n",
    "from qiskit.primitives import StatevectorSampler\n",
    "from qiskit.visualization import (\n",
    "    plot_bloch_multivector,\n",
    "    array_to_latex, \n",
    "    plot_histogram,\n",
    ")\n",
    "from sympy.parsing.sympy_parser import parse_expr\n",
    "from sympy.logic.inference import satisfiable\n",
    "\n",
    "\n",
    "import numpy as np\n",
    "from numpy.random import default_rng, shuffle\n",
    "\n",
    "rng = default_rng()"
   ]
  },
  {
   "cell_type": "markdown",
   "metadata": {},
   "source": [
    "## Distinguishing Unitaries and States"
   ]
  },
  {
   "cell_type": "markdown",
   "metadata": {},
   "source": [
    "**Exercise 1.** You are given an operation that implements a single-qubit unitary transformation: either the H gate or the X gate. The operation will have Adjoint and Controlled variants defined. Your task is to perform necessary operations and measurements to figure out which unitary it was and to return 0 if it was the H gate or 1 if it was the X gate. You are allowed to apply the given operation and its adjoint/controlled variants at most twice. You have to implement an operation which takes a single-qubit operation as an input and returns an integer."
   ]
  },
  {
   "cell_type": "code",
   "execution_count": 243,
   "metadata": {},
   "outputs": [],
   "source": [
    "# 0 -> Gate H, 1 -> Gate X \n",
    "def solve1(operator) -> int:\n",
    "    # We'll apply UXU|0> and measure.\n",
    "    # When U=X -> XXX|0> = X|0> = |1>\n",
    "    # When U=H -> HXH|0> = HX(|0>+|1>) = H(|0>+|1>) = |0>\n",
    "    \n",
    "    qc = QuantumCircuit(1, 1)           # 1 quibit + 1 bit (output measure)\n",
    "    qc.append(operator, [0])\n",
    "    qc.x(0)\n",
    "    qc.append(operator, [0])\n",
    "    \n",
    "    qc.measure(0, 0)\n",
    "    # qc.draw('mpl') # plot the circuit\n",
    "    \n",
    "    sampler = StatevectorSampler()\n",
    "    job = sampler.run([qc], shots=1)\n",
    "    result = job.result()[0].data['c'].get_counts() # A map with the measured val\n",
    "\n",
    "    return int([k for k in result.keys()][0])\n",
    "    "
   ]
  },
  {
   "cell_type": "code",
   "execution_count": 244,
   "metadata": {},
   "outputs": [
    {
     "name": "stdout",
     "output_type": "stream",
     "text": [
      "The case tests: {'X': 10, 'H': 10}\n",
      "{'Accepted': 20, 'Wrong Answer': 0}\n"
     ]
    }
   ],
   "source": [
    "# Testing \n",
    "\n",
    "tests = [i%2 for i in range(20)]\n",
    "shuffle(tests)\n",
    "result_test = {'Accepted':0, 'Wrong Answer':0}\n",
    "tests_inputs = {'X':0, 'H':0}\n",
    "for tt in tests:\n",
    "    gate = XGate() if tt == 1 else HGate()\n",
    "    tests_inputs[('X' if tt == 1 else 'H')] += 1\n",
    "    expected = tt\n",
    "    res = solve1(gate)\n",
    "    if res == expected: \n",
    "        result_test['Accepted'] += 1\n",
    "    else: \n",
    "        result_test['Wrong Answer'] += 1\n",
    "    \n",
    "### Showing results\n",
    "print(\"The case tests:\", tests_inputs)\n",
    "print(result_test)"
   ]
  },
  {
   "cell_type": "markdown",
   "metadata": {},
   "source": [
    "**Exercise 2.** You are given an operation that implements a single-qubit unitary transformation: either the identity (I gate) or one of the Pauli gates (X, Y or Z gate). The operation will have Adjoint and Controlled variants defined. Your task is to perform necessary operations and measurements to figure out which unitary it was and to return\n",
    "\n",
    "- 0 if it was the I gate,\n",
    "- 1 if it was the X gate,\n",
    "- 2 if it was the Y gate,\n",
    "- 3 if it was the Z gate.\n",
    "\n",
    "You are allowed to apply the given operation and its adjoint/controlled variants exactly once. You have to implement an operation which takes a single-qubit operation as an input and returns an integer."
   ]
  },
  {
   "cell_type": "code",
   "execution_count": 278,
   "metadata": {},
   "outputs": [
    {
     "data": {
      "text/plain": [
       "3"
      ]
     },
     "execution_count": 278,
     "metadata": {},
     "output_type": "execute_result"
    }
   ],
   "source": [
    "# 0 -> Gate I, 1 -> Gate X, 2 -> Gate Y, 3 -> Gate Z \n",
    "def solve2(U_gate) -> int:\n",
    "    # In: 1-qubit Operator \n",
    "    # We'll use the Bell States, from the |\\Phi_+> we'll apply the Gate U\n",
    "    # And we know where the States will be, in some Bell state so get them back by a measurement\n",
    "    \n",
    "    # Preparing |\\Phi_+>\n",
    "    qc = QuantumCircuit(2, 2)\n",
    "    qc.h(0)\n",
    "    qc.cx(control_qubit=0, target_qubit=1)\n",
    "\n",
    "    # Appy the U x I\n",
    "    qc.append(U_gate, [0])\n",
    "\n",
    "    # Measure in the Bell states -> Back into {|00>, |01>, |10>, |11>}\n",
    "    # 00 -> I, 10 -> X, 01 -> Z, 11 -> Y\n",
    "    qc.cx(control_qubit=0, target_qubit=1)\n",
    "    qc.h(0)\n",
    "\n",
    "    qc.measure([0,1],[0,1])\n",
    "\n",
    "    # qc.draw('mpl') # Plot the circuit\n",
    "\n",
    "    sampler = StatevectorSampler()\n",
    "    job = sampler.run([qc], shots=1)\n",
    "    result = job.result()[0].data['c'].get_counts() # A map with the measured val\n",
    "    \n",
    "    result = [el for el in result.keys()][0]\n",
    "    mp = {'00': 0, '10' : 1, '01' : 3, '11' : 2}\n",
    "    return mp[result]\n",
    "\n",
    "res = solve2(ZGate())\n",
    "res"
   ]
  },
  {
   "cell_type": "code",
   "execution_count": 281,
   "metadata": {},
   "outputs": [
    {
     "name": "stdout",
     "output_type": "stream",
     "text": [
      "The case tests: {'I': 50, 'X': 50, 'Y': 50, 'Z': 50}\n",
      "{'Accepted': 200, 'Wrong Answer': 0}\n"
     ]
    }
   ],
   "source": [
    "# Testing \n",
    "tests = [i%4 for i in range(200)]\n",
    "shuffle(tests)\n",
    "result_test = {'Accepted':0, 'Wrong Answer':0}\n",
    "tests_inputs = {'I':0, 'X':0, 'Y':0, 'Z':0}\n",
    "inmap = {0: 'I', 1:'X', 2:'Y', 3:'Z'}\n",
    "gatemap = {0: IGate(), 1:XGate(), 2:YGate(), 3:ZGate()}\n",
    "\n",
    "for tt in tests:\n",
    "    gate = gatemap[tt]\n",
    "    tests_inputs[inmap[tt]] += 1\n",
    "    expected = tt\n",
    "    \n",
    "    res = solve2(gate)\n",
    "    if res == expected: \n",
    "        result_test['Accepted'] += 1\n",
    "    else: \n",
    "        result_test['Wrong Answer'] += 1\n",
    "    \n",
    "### Showing results\n",
    "print(\"The case tests:\", tests_inputs)\n",
    "print(result_test)"
   ]
  },
  {
   "cell_type": "markdown",
   "metadata": {},
   "source": [
    "**Exercise 3.** You are given 3 qubits which are guaranteed to be in one of the two states:\n",
    "|ψ0⟩ = 1\n",
    "√3(|100⟩ + ω|010⟩ + ω2|001⟩)\n",
    "|ψ1⟩ = 1\n",
    "√3(|100⟩ + ω2|010⟩ + ω|001⟩)\n",
    "where ω = e2iπ/3.\n",
    "Your task is to perform necessary operations and measurements to figure out which state\n",
    "it was and to return 0 if it was |psi0⟩ state or 1 if it was |ψ1⟩ state. The state of the qubits\n",
    "after the operations does not matter.\n",
    "You have to implement an operation which takes an array of 3 qubits as an input and\n",
    "returns an integer."
   ]
  },
  {
   "cell_type": "markdown",
   "metadata": {},
   "source": [
    "**Exercise 4.** You are given two qubits in state |00⟩. Your task is to create the following\n",
    "state on them: (|00⟩ + |01⟩ + |10⟩)/√3.\n",
    "You have to implement an operation which takes an array of 2 qubits as an input and\n",
    "has no output. The ”output” of your solution is the state in which it left the input qubits."
   ]
  },
  {
   "cell_type": "code",
   "execution_count": 283,
   "metadata": {},
   "outputs": [
    {
     "name": "stdout",
     "output_type": "stream",
     "text": [
      "Statevector([0.57735027+0.j, 0.57735027+0.j, 0.57735027+0.j,\n",
      "             0.        +0.j],\n",
      "            dims=(2, 2))\n"
     ]
    },
    {
     "data": {
      "image/png": "[encoded data removed]",
      "text/plain": [
       "<Figure size 370.906x200.667 with 1 Axes>"
      ]
     },
     "execution_count": 283,
     "metadata": {},
     "output_type": "execute_result"
    }
   ],
   "source": [
    "from math import acos, sqrt\n",
    "\n",
    "def solve4():\n",
    "    # As done in Assignment 3, question 3.\n",
    "    # R_y(k) = cos(k/2)|0> + sin(k/2)|1> \n",
    "    # with k = 2 arccos(1/\\sqrt(3)), R_y |0> = \\sqrt(1/3)|0> + \\sqrt(2/3)|1> \n",
    "    # 1- So, R_y(k)|00> =  \\sqrt(1/3)|00> + \\sqrt(2/3)|10>\n",
    "    # 2- Apply ctr-H (0 -> 1) => \\sqrt(1/3)|00> + \\sqrt(2/3)[\\sqrt(1/2)(|10>+|11>)] = \\sqrt(1/3)[|00> + |10> + |11>]\n",
    "    # 3- Finally apply ctr-X (1 -> 0) => \\sqrt(1/3)[|00> + |10> + |01>]\n",
    "    \n",
    "    angle = 2 * acos(1/sqrt(3))\n",
    "    \n",
    "    qc = QuantumCircuit(2,0)\n",
    "    \n",
    "    # 1.\n",
    "    qc.ry(angle, [0])\n",
    "    \n",
    "    # 2. \n",
    "    qc.ch(control_qubit=0,target_qubit=1)\n",
    "    \n",
    "    # 3. \n",
    "    qc.cx(control_qubit=1, target_qubit=0)\n",
    "    \n",
    "    \n",
    "    state = Statevector(qc)\n",
    "    return qc, state\n",
    "    \n",
    "qc, _ = solve4()\n",
    "qc.draw('mpl')\n",
    "    "
   ]
  },
  {
   "cell_type": "code",
   "execution_count": 290,
   "metadata": {},
   "outputs": [
    {
     "name": "stdout",
     "output_type": "stream",
     "text": [
      "{'Accepted': 1, 'Wrong Answer': 0}\n"
     ]
    }
   ],
   "source": [
    "# Testing\n",
    "_, state = solve4()\n",
    "expected = Statevector([1/sqrt(3),1/sqrt(3),1/sqrt(3), 0])\n",
    "\n",
    "result_test = {'Accepted':0, 'Wrong Answer':0}\n",
    "result_test['Accepted' if state.equiv(expected) else 'Wrong Answer'] += 1\n",
    "print(result_test)"
   ]
  },
  {
   "cell_type": "markdown",
   "metadata": {},
   "source": [
    "**Exercise 5.** You are given N qubits in the state |0 · · · 0⟩, and an integer parity ∈ {0, 1}.\n",
    "Your task is to prepare an equal superposition of all basis states that have the given parity\n",
    "of the number of 1s in their binary notation, i.e., the basis states that have an even number\n",
    "of 1s if parity=0 or the basis states that have an odd number of 1s if parity=1.\n",
    "For example, for N = 2 the required state would be (|00⟩ + |11⟩)/√2 if parity=0, and\n",
    "(|01⟩ + |10⟩)/√2 if parity=1.\n",
    "You are not allowed to use any gates except the Pauli gates (X, Y and Z), the Hadamard\n",
    "gate and the controlled versions of those (you are allowed to use multiple qubits as controls\n",
    "in the controlled versions of gates). However, you are allowed to use measurements.\n",
    "You have to implement an operation which takes an array of N qubits and an integer as\n",
    "an input and has no output. The ”output” of your solution is the state in which it left the\n",
    "input qubits."
   ]
  },
  {
   "cell_type": "code",
   "execution_count": 304,
   "metadata": {},
   "outputs": [
    {
     "data": {
      "image/png": "[encoded data removed]",
      "text/plain": [
       "<Figure size 1374.44x869.556 with 1 Axes>"
      ]
     },
     "execution_count": 304,
     "metadata": {},
     "output_type": "execute_result"
    }
   ],
   "source": [
    "def solve5(initial_state : Statevector, N: int, parity : int) -> None:\n",
    "\n",
    "    qc = QuantumCircuit(N)\n",
    "    qc.initialize(initial_state)\n",
    "    for i in range(1, N):\n",
    "        qc.h(i)\n",
    "        \n",
    "    for i in range(1, N):\n",
    "        qc.cx(control_qubit=i, target_qubit=0)\n",
    "        \n",
    "    # In the final we have the string with even number of ones, because \n",
    "    # - we invert the 0-qubit even times if the [1, n-1] have even one bits, the 0-qubit goes to 0 so the bit string have even ones.\n",
    "    # - we invert the 0-qubit odd times if the [1, n-1] have odd one bits, the 0-qubit goes to 1 so the bit string have even ones.\n",
    "    \n",
    "    if parity == 1:\n",
    "        qc.x(0)\n",
    "    \n",
    "    state = Statevector(qc)\n",
    "    return qc, state\n",
    "\n",
    "\n",
    "qc, _ = solve5(Statevector.from_label('0'*10), 10, 0)\n",
    "qc.draw('mpl')"
   ]
  },
  {
   "cell_type": "code",
   "execution_count": 339,
   "metadata": {},
   "outputs": [
    {
     "name": "stdout",
     "output_type": "stream",
     "text": [
      "parity 0\n",
      "\tTesting the number of amplitutes equal to expected\n",
      "\t\tAccepted\n",
      "\tTesting the setted indices are the expected\n",
      "\t\tAccepted\n",
      "parity 1\n",
      "\tTesting the number of amplitutes equal to expected\n",
      "\t\tAccepted\n",
      "\tTesting the setted indices are the expected\n",
      "\t\tAccepted\n"
     ]
    }
   ],
   "source": [
    "# Testing\n",
    "N = 10\n",
    "strs = [[] for _ in range(2)]\n",
    "for i in range(2**N):\n",
    "    cnt = bin(i).count('1')\n",
    "    strs[cnt%2].append(i)\n",
    "    \n",
    "for i in range(2): # parity\n",
    "    print('parity', i)\n",
    "    _, state = solve5(Statevector.from_label('0'*N), N, i)\n",
    "    state = state.data \n",
    "    strs_expected = strs[i]\n",
    "    expected_c = 1/sqrt(len(strs_expected))\n",
    "    \n",
    "    print('\\tTesting the number of amplitutes equal to expected')\n",
    "    diff_zero_states = [el for el in state if el != 0]\n",
    "    if len(strs_expected) == len(diff_zero_states):\n",
    "        print('\\t\\tAccepted')\n",
    "    else :\n",
    "        print('\\t\\tWrong Answer')\n",
    "    # print('Expected:', len(strs_expected), 'Got: ', len(diff_zero_states))\n",
    "\n",
    "    print('\\tTesting the setted indices are the expected')\n",
    "    cnt = 0\n",
    "    for i in strs_expected:\n",
    "        if np.isclose(state[i], expected_c):\n",
    "            cnt += 1 \n",
    "        else: print(state[i], expected_c)\n",
    "    \n",
    "    if cnt == len(strs_expected):\n",
    "        print('\\t\\tAccepted')\n",
    "    else:\n",
    "        print('\\t\\tWrong Answer')"
   ]
  },
  {
   "cell_type": "markdown",
   "metadata": {},
   "source": [
    "**Exercise 6.** You are given two qubits which are guaranteed to be in one of the Bell states:\n",
    "|Φ+⟩ = 1\n",
    "√2 (|00⟩ + |11⟩)\n",
    "|Φ−⟩ = 1\n",
    "√2 (|00⟩ − |11⟩)\n",
    "|Ψ+⟩ = 1\n",
    "√2 (|01⟩ + |10⟩)\n",
    "|Ψ−⟩ = 1\n",
    "√2 (|01⟩ − |10⟩)\n",
    "2\n",
    "Your task is to perform necessary operations and measurements to figure out which state it\n",
    "was and to return the index of that state (0 for Φ+, 3 for Ψ−, etc.). The state of the qubits\n",
    "after the operations does not matter.\n",
    "You have to implement an operation which takes an array of two qubits as an input and\n",
    "returns an integer."
   ]
  },
  {
   "cell_type": "code",
   "execution_count": 383,
   "metadata": {},
   "outputs": [
    {
     "data": {
      "image/png": "[encoded data removed]",
      "text/plain": [
       "<Figure size 538.128x284.278 with 1 Axes>"
      ]
     },
     "execution_count": 383,
     "metadata": {},
     "output_type": "execute_result"
    }
   ],
   "source": [
    "def solve6(initial_state : Statevector) -> int:\n",
    "    # It's like what's done in exercise 2\n",
    "    qc = QuantumCircuit(2, 2)\n",
    "    qc.initialize(initial_state)\n",
    "    \n",
    "    # Moving to {|00>, |01>, |10>, |11>} basis in measurement\n",
    "    qc.cx(0, 1)\n",
    "    qc.h(0)\n",
    "    \n",
    "    qc.measure([0,1],[0,1])\n",
    "\n",
    "    sampler = StatevectorSampler()\n",
    "    job = sampler.run([qc], shots=1)\n",
    "    result = job.result()[0].data['c'].get_counts() # A map with the measured val\n",
    "    result = [el for el in result.keys()][0]\n",
    "    mp = {'00': 0, '01' : 1, '10' : 2,  '11' : 3}\n",
    "    return qc, mp[result]\n",
    "\n",
    "\n",
    "def get_bell_state(name: str):\n",
    "    # Preparing |\\Phi_+> \n",
    "    qc = QuantumCircuit(2)\n",
    "    qc.h(0)\n",
    "    qc.cx(control_qubit=0, target_qubit=1)\n",
    "    \n",
    "    if name == 'Phi-': \n",
    "        qc.z(0)\n",
    "    elif name == 'Psi+':\n",
    "        qc.x(0)\n",
    "    elif name == 'Psi-':\n",
    "        qc.y(0)\n",
    "    \n",
    "    return Statevector(qc)\n",
    "    \n",
    "    \n",
    "qc, _ = solve6(get_bell_state('Phi+'))\n",
    "qc.draw('mpl')"
   ]
  },
  {
   "cell_type": "code",
   "execution_count": 388,
   "metadata": {},
   "outputs": [
    {
     "name": "stdout",
     "output_type": "stream",
     "text": [
      "The case tests: {'Phi+': 50, 'Phi-': 50, 'Psi+': 50, 'Psi-': 50}\n",
      "{'Accepted': 200, 'Wrong Answer': 0}\n"
     ]
    }
   ],
   "source": [
    "# Testing\n",
    " \n",
    "tests = [i%4 for i in range(200)]\n",
    "shuffle(tests) # Shuffles the test array\n",
    "result_test = {'Accepted':0, 'Wrong Answer':0}\n",
    "tests_inputs = {'Phi+':0, 'Phi-':0, 'Psi+':0, 'Psi-':0}\n",
    "inmap = {0: 'Phi+', 1:'Phi-', 2:'Psi+', 3:'Psi-'}\n",
    "states = { i: get_bell_state(inmap[i]) for i in range(4) }\n",
    "\n",
    "for tt in tests:\n",
    "    state_to_test = states[tt]\n",
    "    tests_inputs[inmap[tt]] += 1\n",
    "    expected = tt\n",
    "    \n",
    "    _, res = solve6(state_to_test)\n",
    "    if res == expected: \n",
    "        result_test['Accepted'] += 1\n",
    "    else: \n",
    "        result_test['Wrong Answer'] += 1\n",
    "        print('Expected', expected, 'Got', res)\n",
    "    \n",
    "### Showing results\n",
    "print(\"The case tests:\", tests_inputs)\n",
    "print(result_test)"
   ]
  }
 ],
 "metadata": {
  "kernelspec": {
   "display_name": ".env",
   "language": "python",
   "name": "python3"
  },
  "language_info": {
   "codemirror_mode": {
    "name": "ipython",
    "version": 3
   },
   "file_extension": ".py",
   "mimetype": "text/x-python",
   "name": "python",
   "nbconvert_exporter": "python",
   "pygments_lexer": "ipython3",
   "version": "3.12.3"
  }
 },
 "nbformat": 4,
 "nbformat_minor": 2
}
