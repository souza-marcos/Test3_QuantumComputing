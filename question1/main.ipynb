{
 "cells": [
  {
   "cell_type": "code",
   "execution_count": 1,
   "metadata": {},
   "outputs": [],
   "source": [
    "from qiskit.circuit import QuantumCircuit, Gate\n",
    "from qiskit.circuit.library import GlobalPhaseGate, PhaseOracle\n",
    "from qiskit.quantum_info import Statevector\n",
    "from qiskit.primitives import StatevectorSampler\n",
    "\n",
    "from sympy.parsing.sympy_parser import parse_expr\n",
    "from sympy.logic.inference import satisfiable\n",
    "\n",
    "def solve(U_gate : Gate):\n",
    "    ''' \n",
    "    Return 1 - U_gate == H, 0 - U_gate == X\n",
    "    '''\n",
    "\n",
    "    # X|0> = |1>, X|1> = |0>\n",
    "    # X|+> = c X(|0> + |1>) = |+>     X|-> = cX(|0> - |1>) = -|->\n",
    "    # H|0> = |+>, H|1> = |->\n",
    "    \n",
    "    \n",
    "    \n",
    "    "
   ]
  }
 ],
 "metadata": {
  "kernelspec": {
   "display_name": ".env",
   "language": "python",
   "name": "python3"
  },
  "language_info": {
   "codemirror_mode": {
    "name": "ipython",
    "version": 3
   },
   "file_extension": ".py",
   "mimetype": "text/x-python",
   "name": "python",
   "nbconvert_exporter": "python",
   "pygments_lexer": "ipython3",
   "version": "3.12.3"
  }
 },
 "nbformat": 4,
 "nbformat_minor": 2
}
